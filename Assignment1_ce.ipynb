{
  "nbformat": 4,
  "nbformat_minor": 0,
  "metadata": {
    "colab": {
      "provenance": []
    },
    "kernelspec": {
      "name": "python3",
      "display_name": "Python 3"
    },
    "language_info": {
      "name": "python"
    }
  },
  "cells": [
    {
      "cell_type": "markdown",
      "source": [
        "# My Assignment"
      ],
      "metadata": {
        "id": "CsPEeAfrr2RN"
      }
    },
    {
      "cell_type": "markdown",
      "source": [
        "Introduction to Jupyter Notebook and Data Science"
      ],
      "metadata": {
        "id": "KCJo0ICnsN5o"
      }
    },
    {
      "cell_type": "markdown",
      "source": [
        "## Data Science Languages\n",
        "\n",
        "- Python\n",
        "- R\n",
        "- Julia\n",
        "- Java\n"
      ],
      "metadata": {
        "id": "6IdgHSG5sVlM"
      }
    },
    {
      "cell_type": "markdown",
      "source": [
        "## Data Science Libraries\n",
        "\n",
        "- Pandas\n",
        "- NumPy\n",
        "- Matplotlib\n",
        "- Seaborn\n",
        "- TensorFlow\n"
      ],
      "metadata": {
        "id": "WJAf27e6suRh"
      }
    },
    {
      "cell_type": "markdown",
      "source": [
        "#Data Science Tools\n",
        "\n",
        "<table>\n",
        "    <tr>\n",
        "        <td>Jupyter</td>\n",
        "    </tr>\n",
        "    <tr>\n",
        "        <td>TensorFlow</td>\n",
        "    </tr>\n",
        "    <tr>\n",
        "        <td>Tableau</td>\n",
        "    </tr>\n",
        "    <tr>\n",
        "        <td>SQL Server</td>\n",
        "    </tr>\n",
        "    <tr>\n",
        "        <td>Git</td>\n",
        "    </tr>\n",
        "     <tr>\n",
        "        <td>Power BI</td>\n",
        "    </tr>\n",
        "</table>\n",
        "\n",
        "\n",
        "\n"
      ],
      "metadata": {
        "id": "UwhFKi-NtGr3"
      }
    },
    {
      "cell_type": "markdown",
      "source": [
        "## Arithmetic Expression Examples are shown below to multiply and add\n"
      ],
      "metadata": {
        "id": "n3iNL6jQueRP"
      }
    },
    {
      "cell_type": "code",
      "source": [
        "a = 10\n",
        "b = 5\n",
        "add = a + b  # Addition\n",
        "mult = a * b  # Multiplication\n",
        "\n",
        "\n",
        "print(f\"Addition: {add}\")\n",
        "print(f\"Multiplication: {mult}\")\n",
        "\n",
        "\n"
      ],
      "metadata": {
        "colab": {
          "base_uri": "https://localhost:8080/"
        },
        "id": "Px9gLlD8u4ok",
        "outputId": "7498820c-71df-450c-a6c4-8ba421d680f5"
      },
      "execution_count": 8,
      "outputs": [
        {
          "output_type": "stream",
          "name": "stdout",
          "text": [
            "Addition: 15\n",
            "Multiplication: 50\n"
          ]
        }
      ]
    },
    {
      "cell_type": "code",
      "source": [
        "#converting minutes to  hours\n",
        "minutes = 150\n",
        "hours = minutes / 60\n",
        "print(f\"{minutes} minutes is equal to {hours} hours\")\n",
        "\n"
      ],
      "metadata": {
        "colab": {
          "base_uri": "https://localhost:8080/"
        },
        "id": "uP5ttM3bwUv4",
        "outputId": "c753ee4d-2fe3-4afb-d835-8971059154e0"
      },
      "execution_count": null,
      "outputs": [
        {
          "output_type": "stream",
          "name": "stdout",
          "text": [
            "150 minutes is equal to 2.5 hours\n"
          ]
        }
      ]
    },
    {
      "cell_type": "markdown",
      "source": [
        "## Objectives\n",
        "\n",
        "1. Learn data science\n",
        "2. Implement it practically\n"
      ],
      "metadata": {
        "id": "J6BEgs7IwzlL"
      }
    },
    {
      "cell_type": "markdown",
      "source": [
        "My name is Siri"
      ],
      "metadata": {
        "id": "jIJH-7MZxBHg"
      }
    }
  ]
}